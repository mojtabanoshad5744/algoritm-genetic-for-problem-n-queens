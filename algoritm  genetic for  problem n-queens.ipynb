{
 "cells": [
  {
   "cell_type": "code",
   "execution_count": 7,
   "metadata": {},
   "outputs": [],
   "source": [
    "# mojtaba noshad 97143048\n",
    "import random"
   ]
  },
  {
   "cell_type": "code",
   "execution_count": 13,
   "metadata": {},
   "outputs": [
    {
     "name": "stdout",
     "output_type": "stream",
     "text": [
      "- - Q - \n",
      "Q - - - \n",
      "- - - Q \n",
      "- Q - - \n",
      "\n",
      "solution found after 1 generations\n",
      " Q =queens  and  - =hoom empty \n",
      " sample output for 4 queens \n"
     ]
    }
   ],
   "source": [
    "random_chromosome = lambda size: [random.randint(1,size) for _ in range(size)]\n",
    "random_chromosome.__doc__='making random chromosomes'\n",
    "\n",
    "def fitness(chromosome,maxFitness=None):\n",
    "    n = len(chromosome)\n",
    "    if maxFitness==None:\n",
    "        maxFitness=(n*(n-1))/2\n",
    "    horizontal_collisions = sum([chromosome.count(queen)-1 for queen in chromosome])/2\n",
    "\n",
    "    left_diagonal=[0]*(2*n)\n",
    "    right_diagonal=[0]*(2*n)\n",
    "    for index,chrom in enumerate(chromosome):\n",
    "        left_diagonal[index+chrom-1]+=1\n",
    "        right_diagonal[n-index+chrom-2]+=1\n",
    "\n",
    "    diagonal_collisions = 0\n",
    "    for i in range(2*n-1):\n",
    "        counter = 0\n",
    "        if left_diagonal[i]  > 1: counter += left_diagonal[i]-1\n",
    "        if right_diagonal[i] > 1: counter += right_diagonal[i]-1\n",
    "        diagonal_collisions+= counter / (n-abs(i-n+1))\n",
    "\n",
    "    return int(maxFitness-(horizontal_collisions + diagonal_collisions))\n",
    "\n",
    "probability=lambda chromosome, fitness,maxFitness=1: fitness(chromosome)/maxFitness\n",
    "\n",
    "def random_pick(population, probabilities):\n",
    "    # tmp={tuple(i):j for i,j in zip(population, probabilities)}\n",
    "    # return list(max(tmp,key=lambda x:tmp[x]))\n",
    "    r = sum(probabilities)*random.random()\n",
    "    upto = 0\n",
    "    for c, w in zip(population, probabilities):\n",
    "        upto+=w\n",
    "        if upto>=r: return c\n",
    "    raise RuntimeError(\"This is unreachable state :(\")\n",
    "\n",
    "def reproduce(x, y):\n",
    "    assert len(x)==len(y)\n",
    "    '''doing cross_over between two chromosomes'''\n",
    "    c = random.randint(0,len(x)-1)\n",
    "    return x[:c]+y[c:]\n",
    "\n",
    "def mutate(x):\n",
    "    '''randomly changing the value of a random index of a chromosome'''\n",
    "    n = len(x)\n",
    "    x[random.randint(0,n-1)]=random.randint(1,n)\n",
    "    return x\n",
    "\n",
    "def genetic_queen(population, fitness,maxFitness,mutationProbability = 0.03):\n",
    "    new_population = []\n",
    "    probabilities = [probability(n, fitness,maxFitness) for n in population]\n",
    "    probabilities = [probability(n, fitness,maxFitness) for n in population]\n",
    "    for _ in population:\n",
    "        x = random_pick(population, probabilities) #best chromosome 1\n",
    "        y = random_pick(population, probabilities) #best chromosome 2\n",
    "        child = reproduce(x, y) #creating two new chromosomes from the best 2 chromosomes\n",
    "        if random.random() < mutationProbability:\n",
    "            child = mutate(child)\n",
    "        new_population.append(child)\n",
    "        if fitness(child) == maxFitness: break\n",
    "    return new_population\n",
    "\n",
    "def main(nq,initialPopulation=100):\n",
    "    maxFitness = (nq*(nq-1))/2\n",
    "    population = [random_chromosome(nq) for _ in range(initialPopulation)]\n",
    "    generationCount = 1\n",
    "    while not maxFitness in [fitness(chrom) for chrom in population]:\n",
    "        # new generation starts\n",
    "        population = genetic_queen(population, fitness,maxFitness)\n",
    "        generationCount += 1\n",
    "    generationCount-=1\n",
    "    for chrom in population:\n",
    "        if fitness(chrom) == maxFitness:\n",
    "            return \"\\n\".join('- '*(i-1)+'Q '+'- '*(nq-i) for i in chrom),generationCount\n",
    "\n",
    "if __name__ == \"__main__\":\n",
    "    TABLE_SIZE=4\n",
    "    print(\"{}\\n\\nsolution found after {} generations\".format(*main(TABLE_SIZE)))\n",
    "    print (\" Q =queens  and  - =hoom empty \")\n",
    "    print (\" sample output for 4 queens \")"
   ]
  },
  {
   "cell_type": "code",
   "execution_count": null,
   "metadata": {},
   "outputs": [],
   "source": []
  }
 ],
 "metadata": {
  "kernelspec": {
   "display_name": "Python 3",
   "language": "python",
   "name": "python3"
  },
  "language_info": {
   "codemirror_mode": {
    "name": "ipython",
    "version": 3
   },
   "file_extension": ".py",
   "mimetype": "text/x-python",
   "name": "python",
   "nbconvert_exporter": "python",
   "pygments_lexer": "ipython3",
   "version": "3.8.3"
  }
 },
 "nbformat": 4,
 "nbformat_minor": 4
}
